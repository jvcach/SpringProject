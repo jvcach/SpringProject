{
 "cells": [
  {
   "cell_type": "code",
   "execution_count": 2,
   "metadata": {},
   "outputs": [
    {
     "data": {
      "text/plain": [
       "[{'exchange': 'blockchain', 'currency': 'USD', 'value': 5842.73},\n",
       " {'exchange': 'bitfinex', 'currency': 'USD', 'value': 6179.81},\n",
       " {'exchange': 'btccharts', 'currency': 'USD', 'value': 5881.34},\n",
       " {'exchange': 'coinbase', 'currency': 'USD', 'value': False},\n",
       " {'exchange': 'bitpay', 'currency': 'USD', 'value': 5823.2}]"
      ]
     },
     "execution_count": 2,
     "metadata": {},
     "output_type": "execute_result"
    }
   ],
   "source": [
    "import requests\n",
    "import json\n",
    "\n",
    "# request the different cryptocurrencies, bring back their value in USD\n",
    "\n",
    "response = requests.get(\"https://community-bitcointy.p.rapidapi.com/all/USD\",\n",
    "  headers={\n",
    "    \"X-RapidAPI-Host\": \"community-bitcointy.p.rapidapi.com\",\n",
    "    \"X-RapidAPI-Key\": \"99b56d77b2msh4fbf746aa5bc231p10dd77jsnf3b5f9868231\"\n",
    "  }\n",
    ")\n",
    "requests= response.json()\n",
    "requests"
   ]
  },
  {
   "cell_type": "code",
   "execution_count": null,
   "metadata": {},
   "outputs": [],
   "source": []
  }
 ],
 "metadata": {
  "kernelspec": {
   "display_name": "Python 3",
   "language": "python",
   "name": "python3"
  },
  "language_info": {
   "codemirror_mode": {
    "name": "ipython",
    "version": 3
   },
   "file_extension": ".py",
   "mimetype": "text/x-python",
   "name": "python",
   "nbconvert_exporter": "python",
   "pygments_lexer": "ipython3",
   "version": "3.6.6"
  }
 },
 "nbformat": 4,
 "nbformat_minor": 2
}
