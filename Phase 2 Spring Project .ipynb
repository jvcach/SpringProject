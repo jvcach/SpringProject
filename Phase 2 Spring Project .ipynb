{
 "cells": [
  {
   "cell_type": "code",
   "execution_count": 2,
   "metadata": {},
   "outputs": [
    {
     "name": "stdout",
     "output_type": "stream",
     "text": [
      "Enter the last digit of card number: 4\n",
      "Visa\n"
     ]
    }
   ],
   "source": [
    "card = input (\"Enter the last digit of card number: \") #asking for the card number for deciding what offer they will get \n",
    "digit = card [0]\n",
    "if digit == \"4\": \n",
    "    card =\"Visa\"\n",
    "elif digit == \"5\":\n",
    "    card = \"MC\"\n",
    "elif digit == \"6\":\n",
    "    card = \"Dis\"\n",
    "elif digit == \"3\":\n",
    "    card = \"AMEX\"\n",
    "else:\n",
    "    card = \"Invalid\"\n",
    "print (card)  #giving the type of card to give the offers"
   ]
  },
  {
   "cell_type": "code",
   "execution_count": null,
   "metadata": {},
   "outputs": [],
   "source": []
  }
 ],
 "metadata": {
  "kernelspec": {
   "display_name": "Python 3",
   "language": "python",
   "name": "python3"
  },
  "language_info": {
   "codemirror_mode": {
    "name": "ipython",
    "version": 3
   },
   "file_extension": ".py",
   "mimetype": "text/x-python",
   "name": "python",
   "nbconvert_exporter": "python",
   "pygments_lexer": "ipython3",
   "version": "3.6.6"
  }
 },
 "nbformat": 4,
 "nbformat_minor": 2
}
