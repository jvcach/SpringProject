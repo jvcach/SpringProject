{
 "cells": [
  {
   "cell_type": "code",
   "execution_count": 11,
   "metadata": {},
   "outputs": [],
   "source": [
    "import requests\n",
    "import json\n",
    "\n"
   ]
  },
  {
   "cell_type": "code",
   "execution_count": 12,
   "metadata": {},
   "outputs": [
    {
     "data": {
      "text/plain": [
       "{'message': 'You are not subscribed to this API.'}"
      ]
     },
     "execution_count": 12,
     "metadata": {},
     "output_type": "execute_result"
    }
   ],
   "source": [
    "response = requests.get(\"https://community-bitcointy.p.rapidapi.com\",\n",
    "  headers={\n",
    "    \"X-RapidAPI-Host\": \"shaisachs-mortgage-payments-v1.p.rapidapi.com\",\n",
    "    \"X-RapidAPI-Key\": \"ab5c77592bmshb9dfb6e3505fd33p1f5069jsnb92f3e9b25f6\",\n",
    "    \"Content-Type\": \"application/x-www-form-urlencoded\"\n",
    "  }\n",
    ")\n",
    "\n",
    "requests = response.json()\n",
    "requests "
   ]
  },
  {
   "cell_type": "code",
   "execution_count": 3,
   "metadata": {},
   "outputs": [
    {
     "data": {
      "text/plain": [
       "{'message': 'You are not subscribed to this API.'}"
      ]
     },
     "execution_count": 3,
     "metadata": {},
     "output_type": "execute_result"
    }
   ],
   "source": [
    "import requests\n",
    "import json\n",
    "response = requests.get(\"https://currency-converter5.p.rapidapi.com\",\n",
    "  headers={\n",
    "    \"X-RapidAPI-Host\": \"currency-converter5.p.rapidapi.com\",\n",
    "    \"X-RapidAPI-Key\": \"ab5c77592bmshb9dfb6e3505fd33p1f5069jsnb92f3e9b25f6\",\n",
    "    \"Content-Type\": \"application/x-www-form-urlencoded\"\n",
    "  }\n",
    ")\n",
    "\n",
    "requests = response.json()\n",
    "requests "
   ]
  },
  {
   "cell_type": "code",
   "execution_count": 14,
   "metadata": {},
   "outputs": [
    {
     "data": {
      "text/plain": [
       "{'message': \"API doesn't exists\"}"
      ]
     },
     "execution_count": 14,
     "metadata": {},
     "output_type": "execute_result"
    }
   ],
   "source": [
    "import requests\n",
    "import json\n",
    "response = requests.get(\"https://stock-news.p.rapidapi.com\",\n",
    "  headers={\n",
    "    \"X-RapidAPI-Host\": \"undefined\",\n",
    "    \"X-RapidAPI-Key\": \"ab5c77592bmshb9dfb6e3505fd33p1f5069jsnb92f3e9b25f6\",\n",
    "    \"Content-Type\": \"application/x-www-form-urlencoded\"\n",
    "  }\n",
    ")\n",
    "\n",
    "requests = response.json()\n",
    "requests "
   ]
  },
  {
   "cell_type": "code",
   "execution_count": 2,
   "metadata": {},
   "outputs": [
    {
     "data": {
      "text/plain": [
       "{'message': \"API doesn't exists\"}"
      ]
     },
     "execution_count": 2,
     "metadata": {},
     "output_type": "execute_result"
    }
   ],
   "source": [
    "\n",
    "import requests\n",
    "import json\n",
    "\n",
    "response = requests.get(\"https://financial-modeling-prep.p.rapidapi.com\",\n",
    "  headers={\n",
    "    \"X-RapidAPI-Host\": \"undefined\",\n",
    "    \"X-RapidAPI-Key\": \"ab5c77592bmshb9dfb6e3505fd33p1f5069jsnb92f3e9b25f6\",\n",
    "    \"Content-Type\": \"application/x-www-form-urlencoded\"\n",
    "  }\n",
    ")\n",
    "\n",
    "requests = response.json()\n",
    "requests "
   ]
  },
  {
   "cell_type": "code",
   "execution_count": 7,
   "metadata": {},
   "outputs": [
    {
     "data": {
      "text/plain": [
       "{'message': \"API doesn't exists\"}"
      ]
     },
     "execution_count": 7,
     "metadata": {},
     "output_type": "execute_result"
    }
   ],
   "source": [
    "import requests\n",
    "import json\n",
    "\n",
    "response = requests.get(\"https://community-bitcointy.p.rapidapi.com\",\n",
    "  headers={\n",
    "    \"X-RapidAPI-Host\": \"undefined\",\n",
    "    \"X-RapidAPI-Key\": \"ab5c77592bmshb9dfb6e3505fd33p1f5069jsnb92f3e9b25f6\",\n",
    "    \"Content-Type\": \"application/x-www-form-urlencoded\"\n",
    "  }\n",
    ")\n",
    "\n",
    "requests = response.json()\n",
    "requests "
   ]
  },
  {
   "cell_type": "code",
   "execution_count": 8,
   "metadata": {},
   "outputs": [
    {
     "data": {
      "text/plain": [
       "{'message': \"API doesn't exists\"}"
      ]
     },
     "execution_count": 8,
     "metadata": {},
     "output_type": "execute_result"
    }
   ],
   "source": [
    "import requests\n",
    "import json\n",
    "response = requests.get(\"https://davidrates-taxrates-io-v1.p.rapidapi.com\",\n",
    "  headers={\n",
    "    \"X-RapidAPI-Host\": \"undefined\",\n",
    "    \"X-RapidAPI-Key\": \"ab5c77592bmshb9dfb6e3505fd33p1f5069jsnb92f3e9b25f6\",\n",
    "    \"Content-Type\": \"application/x-www-form-urlencoded\"\n",
    "  }\n",
    ")\n",
    "\n",
    "requests = response.json()\n",
    "requests "
   ]
  },
  {
   "cell_type": "code",
   "execution_count": 37,
   "metadata": {},
   "outputs": [
    {
     "data": {
      "text/plain": [
       "{'fname': 'John',\n",
       " 'sname': 'Alice',\n",
       " 'percentage': '46',\n",
       " 'result': 'Can choose someone better.'}"
      ]
     },
     "execution_count": 37,
     "metadata": {},
     "output_type": "execute_result"
    }
   ],
   "source": [
    "import requests\n",
    "import json\n",
    "\n",
    "response = requests.get(\"https://love-calculator.p.rapidapi.com/getPercentage?fname=John&sname=Alice\",\n",
    "  headers={\n",
    "    \"X-RapidAPI-Host\": \"love-calculator.p.rapidapi.com\",\n",
    "    \"X-RapidAPI-Key\": \"ab5c77592bmshb9dfb6e3505fd33p1f5069jsnb92f3e9b25f6\"\n",
    "  }\n",
    ")\n",
    "requests = response.json()\n",
    "requests\n"
   ]
  },
  {
   "cell_type": "code",
   "execution_count": null,
   "metadata": {},
   "outputs": [],
   "source": [
    "You = input(\"What is your name ?\")\n",
    "Crush = input(\"What is your crush name?\")\n"
   ]
  },
  {
   "cell_type": "code",
   "execution_count": 15,
   "metadata": {},
   "outputs": [
    {
     "data": {
      "text/plain": [
       "{'Search': [{'Title': 'Avengers: Endgame',\n",
       "   'Year': '2019',\n",
       "   'imdbID': 'tt4154796',\n",
       "   'Type': 'movie',\n",
       "   'Poster': 'https://m.media-amazon.com/images/M/MV5BMTc5MDE2ODcwNV5BMl5BanBnXkFtZTgwMzI2NzQ2NzM@._V1_SX300.jpg'}],\n",
       " 'totalResults': '1',\n",
       " 'Response': 'True'}"
      ]
     },
     "execution_count": 15,
     "metadata": {},
     "output_type": "execute_result"
    }
   ],
   "source": [
    "import requests\n",
    "import json\n",
    "\n",
    "response = requests.get(\"https://movie-database-imdb-alternative.p.rapidapi.com/?page=1&r=json&s=Avengers+Endgame\",\n",
    "  headers={\n",
    "    \"X-RapidAPI-Host\": \"movie-database-imdb-alternative.p.rapidapi.com\",\n",
    "    \"X-RapidAPI-Key\": \"ab5c77592bmshb9dfb6e3505fd33p1f5069jsnb92f3e9b25f6\"\n",
    "  }\n",
    ")\n",
    "\n",
    "requests = response.json()\n",
    "requests"
   ]
  },
  {
   "cell_type": "code",
   "execution_count": 5,
   "metadata": {},
   "outputs": [
    {
     "data": {
      "text/plain": [
       "{'Title': 'Avengers: Endgame',\n",
       " 'Year': '2019',\n",
       " 'Rated': 'N/A',\n",
       " 'Released': '25 Apr 2019',\n",
       " 'Runtime': '181 min',\n",
       " 'Genre': 'Action, Adventure, Fantasy, Sci-Fi',\n",
       " 'Director': 'Anthony Russo, Joe Russo',\n",
       " 'Writer': 'Christopher Markus, Stephen McFeely, Stan Lee (based on the Marvel comics by), Jack Kirby (based on the Marvel comics by), Jim Starlin (comic book)',\n",
       " 'Actors': 'Brie Larson, Robert Downey Jr., Karen Gillan, Tessa Thompson',\n",
       " 'Plot': \"After the devastating events of Avengers: Infinity War (2018), the universe is in ruins. With the help of remaining allies, the Avengers assemble once more in order to undo Thanos' actions and restore order to the universe.\",\n",
       " 'Language': 'English',\n",
       " 'Country': 'USA',\n",
       " 'Awards': 'N/A',\n",
       " 'Poster': 'https://m.media-amazon.com/images/M/MV5BMTc5MDE2ODcwNV5BMl5BanBnXkFtZTgwMzI2NzQ2NzM@._V1_SX300.jpg',\n",
       " 'Ratings': [{'Source': 'Rotten Tomatoes', 'Value': '95%'}],\n",
       " 'Metascore': 'N/A',\n",
       " 'imdbRating': 'N/A',\n",
       " 'imdbVotes': 'N/A',\n",
       " 'imdbID': 'tt4154796',\n",
       " 'Type': 'movie',\n",
       " 'DVD': 'N/A',\n",
       " 'BoxOffice': 'N/A',\n",
       " 'Production': 'Marvel Studios',\n",
       " 'Website': 'https://movies.disney.com/avengers-endgame',\n",
       " 'Response': 'True'}"
      ]
     },
     "execution_count": 5,
     "metadata": {},
     "output_type": "execute_result"
    }
   ],
   "source": [
    "import requests\n",
    "import json\n",
    "response = requests.get(\"https://movie-database-imdb-alternative.p.rapidapi.com/?i=tt4154796&r=json\",\n",
    "  headers={\n",
    "    \"X-RapidAPI-Host\": \"movie-database-imdb-alternative.p.rapidapi.com\",\n",
    "    \"X-RapidAPI-Key\": \"ab5c77592bmshb9dfb6e3505fd33p1f5069jsnb92f3e9b25f6\"\n",
    "  }\n",
    ")\n",
    "requests = response.json()\n",
    "requests"
   ]
  },
  {
   "cell_type": "code",
   "execution_count": 6,
   "metadata": {},
   "outputs": [
    {
     "name": "stdout",
     "output_type": "stream",
     "text": [
      "Enter the title of the movie you like? Avengers\n"
     ]
    },
    {
     "data": {
      "text/plain": [
       "[b'{\"Title\":\"Avengers: Endgame\",\"Year\":\"2019\",\"Rated\":\"N/A\",\"Released\":\"25 Apr 2019\",\"Runtime\":\"181 min\",\"Genre\":\"Action, Adventure',\n",
       " b', Fantasy, Sci-Fi\",\"Director\":\"Anthony Russo, Joe Russo\",\"Writer\":\"Christopher Markus, Stephen McFeely, Stan Lee (based on the M',\n",
       " b'arvel comics by), Jack Kirby (based on the Marvel comics by), Jim Starlin (comic book)\",\"Actors\":\"Brie Larson, Robert Downey Jr.',\n",
       " b', Karen Gillan, Tessa Thompson\",\"Plot\":\"After the devastating events of Avengers: Infinity War (2018), the universe is in ruins.',\n",
       " b\" With the help of remaining allies, the Avengers assemble once more in order to undo Thanos' actions and restore order to the un\",\n",
       " b'iverse.\",\"Language\":\"English\",\"Country\":\"USA\",\"Awards\":\"N/A\",\"Poster\":\"https://m.media-amazon.com/images/M/MV5BMTc5MDE2ODcwNV5BM',\n",
       " b'l5BanBnXkFtZTgwMzI2NzQ2NzM@._V1_SX300.jpg\",\"Ratings\":[{\"Source\":\"Rotten Tomatoes\",\"Value\":\"95%\"}],\"Metascore\":\"N/A\",\"imdbRating\"',\n",
       " b':\"N/A\",\"imdbVotes\":\"N/A\",\"imdbID\":\"tt4154796\",\"Type\":\"movie\",\"DVD\":\"N/A\",\"BoxOffice\":\"N/A\",\"Production\":\"Marvel Studios\",\"Websit',\n",
       " b'e\":\"https://movies.disney.com/avengers-endgame\",\"Response\":\"True\"}']"
      ]
     },
     "execution_count": 6,
     "metadata": {},
     "output_type": "execute_result"
    }
   ],
   "source": [
    "Title = input (\"Enter the title of the movie you like? \")\n",
    "list(response)"
   ]
  },
  {
   "cell_type": "code",
   "execution_count": 25,
   "metadata": {},
   "outputs": [
    {
     "name": "stdout",
     "output_type": "stream",
     "text": [
      "Enter the title of the movie you like? Breaking Bad\n"
     ]
    },
    {
     "data": {
      "text/plain": [
       "[b'{\"Title\":\"Avengers: Endgame\",\"Year\":\"2019\",\"Rated\":\"N/A\",\"Released\":\"25 Apr 2019\",\"Runtime\":\"181 min\",\"Genre\":\"Action, Adventure',\n",
       " b', Fantasy, Sci-Fi\",\"Director\":\"Anthony Russo, Joe Russo\",\"Writer\":\"Christopher Markus, Stephen McFeely, Stan Lee (based on the M',\n",
       " b'arvel comics by), Jack Kirby (based on the Marvel comics by), Jim Starlin (comic book)\",\"Actors\":\"Brie Larson, Robert Downey Jr.',\n",
       " b', Karen Gillan, Tessa Thompson\",\"Plot\":\"After the devastating events of Avengers: Infinity War (2018), the universe is in ruins.',\n",
       " b\" With the help of remaining allies, the Avengers assemble once more in order to undo Thanos' actions and restore order to the un\",\n",
       " b'iverse.\",\"Language\":\"English\",\"Country\":\"USA\",\"Awards\":\"N/A\",\"Poster\":\"https://m.media-amazon.com/images/M/MV5BMTc5MDE2ODcwNV5BM',\n",
       " b'l5BanBnXkFtZTgwMzI2NzQ2NzM@._V1_SX300.jpg\",\"Ratings\":[{\"Source\":\"Rotten Tomatoes\",\"Value\":\"95%\"}],\"Metascore\":\"N/A\",\"imdbRating\"',\n",
       " b':\"N/A\",\"imdbVotes\":\"N/A\",\"imdbID\":\"tt4154796\",\"Type\":\"movie\",\"DVD\":\"N/A\",\"BoxOffice\":\"N/A\",\"Production\":\"Marvel Studios\",\"Websit',\n",
       " b'e\":\"https://movies.disney.com/avengers-endgame\",\"Response\":\"True\"}']"
      ]
     },
     "execution_count": 25,
     "metadata": {},
     "output_type": "execute_result"
    }
   ],
   "source": [
    "Title = input (\"Enter the title of the movie you like? \")\n",
    "list(response)"
   ]
  },
  {
   "cell_type": "code",
   "execution_count": 10,
   "metadata": {},
   "outputs": [
    {
     "ename": "TypeError",
     "evalue": "'Response' object is not subscriptable",
     "output_type": "error",
     "traceback": [
      "\u001b[1;31m---------------------------------------------------------------------------\u001b[0m",
      "\u001b[1;31mTypeError\u001b[0m                                 Traceback (most recent call last)",
      "\u001b[1;32m<ipython-input-10-e5d4fa0c0ce7>\u001b[0m in \u001b[0;36m<module>\u001b[1;34m\u001b[0m\n\u001b[0;32m      1\u001b[0m \u001b[1;32mfor\u001b[0m \u001b[0mTitle\u001b[0m \u001b[1;32min\u001b[0m \u001b[0mresponse\u001b[0m\u001b[1;33m:\u001b[0m\u001b[1;33m\u001b[0m\u001b[0m\n\u001b[1;32m----> 2\u001b[1;33m         \u001b[0mprint\u001b[0m\u001b[1;33m(\u001b[0m\u001b[0mresponse\u001b[0m\u001b[1;33m[\u001b[0m\u001b[1;34m'Name'\u001b[0m\u001b[1;33m]\u001b[0m\u001b[1;33m,\u001b[0m \u001b[0mresponse\u001b[0m\u001b[1;33m[\u001b[0m\u001b[1;34m'Actors'\u001b[0m\u001b[1;33m]\u001b[0m\u001b[1;33m)\u001b[0m\u001b[1;33m\u001b[0m\u001b[0m\n\u001b[0m",
      "\u001b[1;31mTypeError\u001b[0m: 'Response' object is not subscriptable"
     ]
    }
   ],
   "source": [
    "for Title in response:\n",
    "        print(response['Name'], response['Actors'])"
   ]
  },
  {
   "cell_type": "code",
   "execution_count": 12,
   "metadata": {},
   "outputs": [],
   "source": [
    "def get_ssh_keys():\n",
    "\n",
    "    api_url = '{0}account/keys'.format(response)\n",
    "\n",
    "    response = requests.get(api_url, headers=headers)"
   ]
  },
  {
   "cell_type": "code",
   "execution_count": 34,
   "metadata": {},
   "outputs": [
    {
     "ename": "IndentationError",
     "evalue": "unindent does not match any outer indentation level (<tokenize>, line 3)",
     "output_type": "error",
     "traceback": [
      "\u001b[1;36m  File \u001b[1;32m\"<tokenize>\"\u001b[1;36m, line \u001b[1;32m3\u001b[0m\n\u001b[1;33m    return None\u001b[0m\n\u001b[1;37m    ^\u001b[0m\n\u001b[1;31mIndentationError\u001b[0m\u001b[1;31m:\u001b[0m unindent does not match any outer indentation level\n"
     ]
    }
   ],
   "source": [
    "if response.status_code >= 500:\n",
    "        print('[!] [{0}] Server Error'.format(response.status_code))\n",
    "        return None\n",
    "elif response.status_code == 404:\n",
    "        print('[!] [{0}] URL not found: [{1}]'.format(response.status_code,api_url))\n",
    "        return None  \n",
    "elif response.status_code == 401:\n",
    "        print('[!] [{0}] Authentication Failed'.format(response.status_code))\n",
    "        return None\n",
    "elif response.status_code == 400:\n",
    "        print('[!] [{0}] Bad Request'.format(response.status_code))\n",
    "        return None\n",
    "elif response.status_code >= 300:\n",
    "        print('[!] [{0}] Unexpected Redirect'.format(response.status_code))\n",
    "        return None\n",
    "elif response.status_code == 200:\n",
    "        ssh_keys = json.loads(response.content.decode('utf-8'))\n",
    "        return ssh_keys\n",
    "else:\n",
    "        print('[?] Unexpected Error: [HTTP {0}]: Content: {1}'.format(response.status_code, response.content))\n",
    "        return None"
   ]
  },
  {
   "cell_type": "code",
   "execution_count": 36,
   "metadata": {},
   "outputs": [
    {
     "ename": "UnboundLocalError",
     "evalue": "local variable 'response' referenced before assignment",
     "output_type": "error",
     "traceback": [
      "\u001b[1;31m---------------------------------------------------------------------------\u001b[0m",
      "\u001b[1;31mUnboundLocalError\u001b[0m                         Traceback (most recent call last)",
      "\u001b[1;32m<ipython-input-36-7f6bab146ea8>\u001b[0m in \u001b[0;36m<module>\u001b[1;34m\u001b[0m\n\u001b[1;32m----> 1\u001b[1;33m \u001b[0mssh_keys\u001b[0m \u001b[1;33m=\u001b[0m \u001b[0mget_ssh_keys\u001b[0m\u001b[1;33m(\u001b[0m\u001b[1;33m)\u001b[0m\u001b[1;33m\u001b[0m\u001b[0m\n\u001b[0m\u001b[0;32m      2\u001b[0m \u001b[1;33m\u001b[0m\u001b[0m\n\u001b[0;32m      3\u001b[0m \u001b[1;32mif\u001b[0m \u001b[0mssh_keys\u001b[0m \u001b[1;32mis\u001b[0m \u001b[1;32mnot\u001b[0m \u001b[1;32mNone\u001b[0m\u001b[1;33m:\u001b[0m\u001b[1;33m\u001b[0m\u001b[0m\n\u001b[0;32m      4\u001b[0m     \u001b[0mprint\u001b[0m\u001b[1;33m(\u001b[0m\u001b[1;34m'Here are your keys: '\u001b[0m\u001b[1;33m)\u001b[0m\u001b[1;33m\u001b[0m\u001b[0m\n\u001b[0;32m      5\u001b[0m     \u001b[1;32mfor\u001b[0m \u001b[0mkey\u001b[0m\u001b[1;33m,\u001b[0m \u001b[0mdetails\u001b[0m \u001b[1;32min\u001b[0m \u001b[0menumerate\u001b[0m\u001b[1;33m(\u001b[0m\u001b[0mssh_keys\u001b[0m\u001b[1;33m[\u001b[0m\u001b[1;34m'ssh_keys'\u001b[0m\u001b[1;33m]\u001b[0m\u001b[1;33m)\u001b[0m\u001b[1;33m:\u001b[0m\u001b[1;33m\u001b[0m\u001b[0m\n",
      "\u001b[1;32m<ipython-input-12-63a9bb844516>\u001b[0m in \u001b[0;36mget_ssh_keys\u001b[1;34m()\u001b[0m\n\u001b[0;32m      1\u001b[0m \u001b[1;32mdef\u001b[0m \u001b[0mget_ssh_keys\u001b[0m\u001b[1;33m(\u001b[0m\u001b[1;33m)\u001b[0m\u001b[1;33m:\u001b[0m\u001b[1;33m\u001b[0m\u001b[0m\n\u001b[0;32m      2\u001b[0m \u001b[1;33m\u001b[0m\u001b[0m\n\u001b[1;32m----> 3\u001b[1;33m     \u001b[0mapi_url\u001b[0m \u001b[1;33m=\u001b[0m \u001b[1;34m'{0}account/keys'\u001b[0m\u001b[1;33m.\u001b[0m\u001b[0mformat\u001b[0m\u001b[1;33m(\u001b[0m\u001b[0mresponse\u001b[0m\u001b[1;33m)\u001b[0m\u001b[1;33m\u001b[0m\u001b[0m\n\u001b[0m\u001b[0;32m      4\u001b[0m \u001b[1;33m\u001b[0m\u001b[0m\n\u001b[0;32m      5\u001b[0m     \u001b[0mresponse\u001b[0m \u001b[1;33m=\u001b[0m \u001b[0mrequests\u001b[0m\u001b[1;33m.\u001b[0m\u001b[0mget\u001b[0m\u001b[1;33m(\u001b[0m\u001b[0mapi_url\u001b[0m\u001b[1;33m,\u001b[0m \u001b[0mheaders\u001b[0m\u001b[1;33m=\u001b[0m\u001b[0mheaders\u001b[0m\u001b[1;33m)\u001b[0m\u001b[1;33m\u001b[0m\u001b[0m\n",
      "\u001b[1;31mUnboundLocalError\u001b[0m: local variable 'response' referenced before assignment"
     ]
    }
   ],
   "source": [
    "ssh_keys = get_ssh_keys()\n",
    "\n",
    "if ssh_keys is not None:\n",
    "    print('Here are your keys: ')\n",
    "    for key, details in enumerate(ssh_keys['ssh_keys']):\n",
    "        print('Key {}:'.format(key))\n",
    "        for k, v in details.items():\n",
    "            print('  {0}:{1}'.format(k, v))\n",
    "else:\n",
    "    print('[!] Request Failed')"
   ]
  },
  {
   "cell_type": "code",
   "execution_count": null,
   "metadata": {},
   "outputs": [],
   "source": []
  }
 ],
 "metadata": {
  "kernelspec": {
   "display_name": "Python 3",
   "language": "python",
   "name": "python3"
  },
  "language_info": {
   "codemirror_mode": {
    "name": "ipython",
    "version": 3
   },
   "file_extension": ".py",
   "mimetype": "text/x-python",
   "name": "python",
   "nbconvert_exporter": "python",
   "pygments_lexer": "ipython3",
   "version": "3.6.6"
  }
 },
 "nbformat": 4,
 "nbformat_minor": 2
}
