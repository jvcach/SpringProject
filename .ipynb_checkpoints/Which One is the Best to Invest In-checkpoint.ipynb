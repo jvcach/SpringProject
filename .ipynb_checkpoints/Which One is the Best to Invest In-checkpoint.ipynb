{
 "cells": [
  {
   "cell_type": "code",
   "execution_count": 9,
   "metadata": {},
   "outputs": [
    {
     "data": {
      "text/plain": [
       "[{'exchange': 'blockchain', 'currency': 'USD', 'value': 5887.01},\n",
       " {'exchange': 'bitfinex', 'currency': 'USD', 'value': 6228.1},\n",
       " {'exchange': 'btccharts', 'currency': 'USD', 'value': 5921.89},\n",
       " {'exchange': 'coinbase', 'currency': 'USD', 'value': False},\n",
       " {'exchange': 'bitpay', 'currency': 'USD', 'value': 5884.41}]"
      ]
     },
     "execution_count": 9,
     "metadata": {},
     "output_type": "execute_result"
    }
   ],
   "source": [
    "import requests\n",
    "import json\n",
    "\n",
    "# request the different cryptocurrencies, bring back their value in USD\n",
    "\n",
    "response = requests.get(\"https://community-bitcointy.p.rapidapi.com/all/USD\",\n",
    "  headers={\n",
    "    \"X-RapidAPI-Host\": \"community-bitcointy.p.rapidapi.com\",\n",
    "    \"X-RapidAPI-Key\": \"99b56d77b2msh4fbf746aa5bc231p10dd77jsnf3b5f9868231\"\n",
    "  }\n",
    ")\n",
    "requests= response.json()\n",
    "requests"
   ]
  },
  {
   "cell_type": "code",
   "execution_count": 2,
   "metadata": {},
   "outputs": [
    {
     "name": "stdout",
     "output_type": "stream",
     "text": [
      "[{'exchange': 'blockchain', 'currency': 'USD', 'value': 5818.56}, {'exchange': 'bitfinex', 'currency': 'USD', 'value': 6169.46}, {'exchange': 'btccharts', 'currency': 'USD', 'value': 5908.14}, {'exchange': 'coinbase', 'currency': 'USD', 'value': False}, {'exchange': 'bitpay', 'currency': 'USD', 'value': 5811.59}]\n"
     ]
    }
   ],
   "source": [
    "# new dictionary/portfolio \n",
    "portfolio = [\n",
    " {'exchange': 'blockchain', 'currency': 'USD', 'value': 5818.56},\n",
    " {'exchange': 'bitfinex', 'currency': 'USD', 'value': 6169.46},\n",
    " {'exchange': 'btccharts', 'currency': 'USD', 'value': 5908.14},\n",
    " {'exchange': 'coinbase', 'currency': 'USD', 'value': False},\n",
    " {'exchange': 'bitpay', 'currency': 'USD', 'value': 5811.59}\n",
    "]\n",
    "\n",
    "print(portfolio[:])\n",
    "#printing the cryptocurrency and the value of one stock."
   ]
  },
  {
   "cell_type": "code",
   "execution_count": 3,
   "metadata": {},
   "outputs": [
    {
     "data": {
      "text/plain": [
       "list"
      ]
     },
     "execution_count": 3,
     "metadata": {},
     "output_type": "execute_result"
    }
   ],
   "source": [
    "type(portfolio) #to make sure we did the portfolio part right."
   ]
  },
  {
   "cell_type": "code",
   "execution_count": 5,
   "metadata": {},
   "outputs": [
    {
     "data": {
      "text/html": [
       "<div>\n",
       "<style scoped>\n",
       "    .dataframe tbody tr th:only-of-type {\n",
       "        vertical-align: middle;\n",
       "    }\n",
       "\n",
       "    .dataframe tbody tr th {\n",
       "        vertical-align: top;\n",
       "    }\n",
       "\n",
       "    .dataframe thead th {\n",
       "        text-align: right;\n",
       "    }\n",
       "</style>\n",
       "<table border=\"1\" class=\"dataframe\">\n",
       "  <thead>\n",
       "    <tr style=\"text-align: right;\">\n",
       "      <th></th>\n",
       "      <th>Crypto</th>\n",
       "      <th>Currency</th>\n",
       "      <th>Value</th>\n",
       "    </tr>\n",
       "  </thead>\n",
       "  <tbody>\n",
       "    <tr>\n",
       "      <th>2</th>\n",
       "      <td>btccharts</td>\n",
       "      <td>USD</td>\n",
       "      <td>5806.88</td>\n",
       "    </tr>\n",
       "    <tr>\n",
       "      <th>0</th>\n",
       "      <td>blockchain</td>\n",
       "      <td>USD</td>\n",
       "      <td>5908.29</td>\n",
       "    </tr>\n",
       "    <tr>\n",
       "      <th>4</th>\n",
       "      <td>bitpay</td>\n",
       "      <td>USD</td>\n",
       "      <td>5903.9</td>\n",
       "    </tr>\n",
       "    <tr>\n",
       "      <th>3</th>\n",
       "      <td>coinbase</td>\n",
       "      <td>USD</td>\n",
       "      <td>False</td>\n",
       "    </tr>\n",
       "    <tr>\n",
       "      <th>1</th>\n",
       "      <td>bitfinex</td>\n",
       "      <td>USD</td>\n",
       "      <td>6257.4</td>\n",
       "    </tr>\n",
       "  </tbody>\n",
       "</table>\n",
       "</div>"
      ],
      "text/plain": [
       "       Crypto  Currency     Value\n",
       "2   btccharts       USD   5806.88\n",
       "0  blockchain       USD   5908.29\n",
       "4      bitpay       USD    5903.9\n",
       "3    coinbase       USD     False\n",
       "1    bitfinex       USD    6257.4"
      ]
     },
     "execution_count": 5,
     "metadata": {},
     "output_type": "execute_result"
    }
   ],
   "source": [
    "import pandas as pd\n",
    "import numpy as np\n",
    "\n",
    "# this turns off warning messages\n",
    "import warnings\n",
    "warnings.filterwarnings('ignore')\n",
    "\n",
    "currency = pd.read_csv('Bitcointy.csv') #taking data from the file we created it in our repository \n",
    "currency.sample(5)"
   ]
  },
  {
   "cell_type": "code",
   "execution_count": 5,
   "metadata": {},
   "outputs": [
    {
     "data": {
      "text/html": [
       "<div>\n",
       "<style scoped>\n",
       "    .dataframe tbody tr th:only-of-type {\n",
       "        vertical-align: middle;\n",
       "    }\n",
       "\n",
       "    .dataframe tbody tr th {\n",
       "        vertical-align: top;\n",
       "    }\n",
       "\n",
       "    .dataframe thead th {\n",
       "        text-align: right;\n",
       "    }\n",
       "</style>\n",
       "<table border=\"1\" class=\"dataframe\">\n",
       "  <thead>\n",
       "    <tr style=\"text-align: right;\">\n",
       "      <th></th>\n",
       "      <th>Crypto</th>\n",
       "      <th>Currency</th>\n",
       "      <th>Value</th>\n",
       "    </tr>\n",
       "  </thead>\n",
       "  <tbody>\n",
       "    <tr>\n",
       "      <th>0</th>\n",
       "      <td>blockchain</td>\n",
       "      <td>USD</td>\n",
       "      <td>5908.29</td>\n",
       "    </tr>\n",
       "    <tr>\n",
       "      <th>1</th>\n",
       "      <td>bitfinex</td>\n",
       "      <td>USD</td>\n",
       "      <td>6257.4</td>\n",
       "    </tr>\n",
       "    <tr>\n",
       "      <th>2</th>\n",
       "      <td>btccharts</td>\n",
       "      <td>USD</td>\n",
       "      <td>5806.88</td>\n",
       "    </tr>\n",
       "    <tr>\n",
       "      <th>3</th>\n",
       "      <td>coinbase</td>\n",
       "      <td>USD</td>\n",
       "      <td>False</td>\n",
       "    </tr>\n",
       "    <tr>\n",
       "      <th>4</th>\n",
       "      <td>bitpay</td>\n",
       "      <td>USD</td>\n",
       "      <td>5903.9</td>\n",
       "    </tr>\n",
       "  </tbody>\n",
       "</table>\n",
       "</div>"
      ],
      "text/plain": [
       "       Crypto  Currency     Value\n",
       "0  blockchain       USD   5908.29\n",
       "1    bitfinex       USD    6257.4\n",
       "2   btccharts       USD   5806.88\n",
       "3    coinbase       USD     False\n",
       "4      bitpay       USD    5903.9"
      ]
     },
     "execution_count": 5,
     "metadata": {},
     "output_type": "execute_result"
    }
   ],
   "source": [
    "currency_df= pd.DataFrame(currency) #making data frame\n",
    "currency_df"
   ]
  },
  {
   "cell_type": "code",
   "execution_count": 31,
   "metadata": {
    "scrolled": true
   },
   "outputs": [
    {
     "name": "stdout",
     "output_type": "stream",
     "text": [
      "Which One Is The Best?\n",
      "Are you interested in cryptocurrency?No\n",
      "We hope to see you soon!\n"
     ]
    }
   ],
   "source": [
    "print(\"Which One Is The Best?\")\n",
    "\n",
    "crypto = ['blockchain', 'bitfinex', 'btcchart', 'bitpay']\n",
    "\n",
    "currency = input(\"Are you interested in cryptocurrency?\")\n",
    "\n",
    "for item  in crypto: # list\n",
    "    if currency == \"No\":\n",
    "        print (\"We hope to see you soon!\") #Wishing them luck! \n",
    "        break\n",
    "        \n",
    "    if currency == \"Yes\":\n",
    "        print(\"These are the option you have: blockchain, bitfinex, btcchart, bitpay. Hope you enjoy!\") #list of the cryptocurrancies that has the higher value!\n",
    "        break"
   ]
  },
  {
   "cell_type": "code",
   "execution_count": null,
   "metadata": {},
   "outputs": [],
   "source": []
  }
 ],
 "metadata": {
  "kernelspec": {
   "display_name": "Python 3",
   "language": "python",
   "name": "python3"
  },
  "language_info": {
   "codemirror_mode": {
    "name": "ipython",
    "version": 3
   },
   "file_extension": ".py",
   "mimetype": "text/x-python",
   "name": "python",
   "nbconvert_exporter": "python",
   "pygments_lexer": "ipython3",
   "version": "3.6.6"
  }
 },
 "nbformat": 4,
 "nbformat_minor": 2
}
